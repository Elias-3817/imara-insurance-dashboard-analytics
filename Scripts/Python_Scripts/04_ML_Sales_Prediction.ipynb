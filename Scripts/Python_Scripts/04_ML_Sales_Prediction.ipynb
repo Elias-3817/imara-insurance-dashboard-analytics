{
 "cells": [
  {
   "cell_type": "code",
   "execution_count": null,
   "id": "be5f58ed",
   "metadata": {},
   "outputs": [
    {
     "data": {
      "text/plain": [
       "Index(['PolicyID', 'ClientID', 'AgentID', 'PolicyType', 'StartDate', 'EndDate',\n",
       "       'PremiumAmount', 'Status', 'Channel', 'PaymentStatus', 'RiskScore',\n",
       "       'OriginalPolicyID', 'RenewalNumber', 'BusinessType', 'TransactionType',\n",
       "       'CoverageType', 'VehicleAge', 'UsageType'],\n",
       "      dtype='object')"
      ]
     },
     "execution_count": 5,
     "metadata": {},
     "output_type": "execute_result"
    }
   ],
   "source": [
    "import pandas as pd\n",
    "from prophet import Prophet\n",
    "Policies = pd.read_csv('../data/01_raw_data/policies.csv')\n",
    "\n",
    "Policies.columns"
   ]
  },
  {
   "cell_type": "code",
   "execution_count": 16,
   "id": "545c3034",
   "metadata": {},
   "outputs": [
    {
     "name": "stderr",
     "output_type": "stream",
     "text": [
      "C:\\Users\\ADMIN\\AppData\\Local\\Temp\\ipykernel_12508\\2242330630.py:5: FutureWarning: 'M' is deprecated and will be removed in a future version, please use 'ME' instead.\n",
      "  monthly_sales = Policies.groupby(pd.Grouper(key='StartDate', freq='M'))['PremiumAmount'].sum().reset_index()\n"
     ]
    }
   ],
   "source": [
    "# Ensure correct column names and types\n",
    "Policies['StartDate'] = pd.to_datetime(Policies['StartDate'], errors='coerce')\n",
    "\n",
    "# Now group by month using the correct column\n",
    "monthly_sales = Policies.groupby(pd.Grouper(key='StartDate', freq='M'))['PremiumAmount'].sum().reset_index()\n",
    "\n",
    "monthly_sales.rename(columns={'StartDate':'ds','PremiumAmount':'y'}, inplace = True)\n"
   ]
  },
  {
   "cell_type": "code",
   "execution_count": 17,
   "id": "cd361073",
   "metadata": {},
   "outputs": [
    {
     "data": {
      "application/vnd.microsoft.datawrangler.viewer.v0+json": {
       "columns": [
        {
         "name": "index",
         "rawType": "int64",
         "type": "integer"
        },
        {
         "name": "ds",
         "rawType": "datetime64[ns]",
         "type": "datetime"
        },
        {
         "name": "y",
         "rawType": "float64",
         "type": "float"
        }
       ],
       "ref": "28a70183-6d00-44eb-bf57-25d8c385aac4",
       "rows": [
        [
         "0",
         "2022-09-30 00:00:00",
         "1735948.27"
        ],
        [
         "1",
         "2022-10-31 00:00:00",
         "2365865.93"
        ],
        [
         "2",
         "2022-11-30 00:00:00",
         "3577077.38"
        ],
        [
         "3",
         "2022-12-31 00:00:00",
         "6427020.88"
        ],
        [
         "4",
         "2023-01-31 00:00:00",
         "8524065.72"
        ]
       ],
       "shape": {
        "columns": 2,
        "rows": 5
       }
      },
      "text/html": [
       "<div>\n",
       "<style scoped>\n",
       "    .dataframe tbody tr th:only-of-type {\n",
       "        vertical-align: middle;\n",
       "    }\n",
       "\n",
       "    .dataframe tbody tr th {\n",
       "        vertical-align: top;\n",
       "    }\n",
       "\n",
       "    .dataframe thead th {\n",
       "        text-align: right;\n",
       "    }\n",
       "</style>\n",
       "<table border=\"1\" class=\"dataframe\">\n",
       "  <thead>\n",
       "    <tr style=\"text-align: right;\">\n",
       "      <th></th>\n",
       "      <th>ds</th>\n",
       "      <th>y</th>\n",
       "    </tr>\n",
       "  </thead>\n",
       "  <tbody>\n",
       "    <tr>\n",
       "      <th>0</th>\n",
       "      <td>2022-09-30</td>\n",
       "      <td>1735948.27</td>\n",
       "    </tr>\n",
       "    <tr>\n",
       "      <th>1</th>\n",
       "      <td>2022-10-31</td>\n",
       "      <td>2365865.93</td>\n",
       "    </tr>\n",
       "    <tr>\n",
       "      <th>2</th>\n",
       "      <td>2022-11-30</td>\n",
       "      <td>3577077.38</td>\n",
       "    </tr>\n",
       "    <tr>\n",
       "      <th>3</th>\n",
       "      <td>2022-12-31</td>\n",
       "      <td>6427020.88</td>\n",
       "    </tr>\n",
       "    <tr>\n",
       "      <th>4</th>\n",
       "      <td>2023-01-31</td>\n",
       "      <td>8524065.72</td>\n",
       "    </tr>\n",
       "  </tbody>\n",
       "</table>\n",
       "</div>"
      ],
      "text/plain": [
       "          ds           y\n",
       "0 2022-09-30  1735948.27\n",
       "1 2022-10-31  2365865.93\n",
       "2 2022-11-30  3577077.38\n",
       "3 2022-12-31  6427020.88\n",
       "4 2023-01-31  8524065.72"
      ]
     },
     "execution_count": 17,
     "metadata": {},
     "output_type": "execute_result"
    }
   ],
   "source": [
    "monthly_sales.head()"
   ]
  },
  {
   "cell_type": "code",
   "execution_count": 19,
   "id": "917f9917",
   "metadata": {},
   "outputs": [
    {
     "name": "stderr",
     "output_type": "stream",
     "text": [
      "15:48:57 - cmdstanpy - INFO - Chain [1] start processing\n",
      "15:48:57 - cmdstanpy - INFO - Chain [1] done processing\n",
      "c:\\Users\\ADMIN\\anaconda3\\Lib\\site-packages\\prophet\\forecaster.py:1872: FutureWarning: 'M' is deprecated and will be removed in a future version, please use 'ME' instead.\n",
      "  dates = pd.date_range(\n"
     ]
    }
   ],
   "source": [
    "from prophet import Prophet\n",
    "\n",
    "model = Prophet()\n",
    "model.fit(monthly_sales)\n",
    "\n",
    "future = model.make_future_dataframe(periods=6,freq = 'M')\n",
    "forecast = model.predict(future)"
   ]
  },
  {
   "cell_type": "code",
   "execution_count": 20,
   "id": "5c493d0e",
   "metadata": {},
   "outputs": [
    {
     "name": "stderr",
     "output_type": "stream",
     "text": [
      "C:\\Users\\ADMIN\\AppData\\Local\\Temp\\ipykernel_12508\\348561969.py:2: SettingWithCopyWarning: \n",
      "A value is trying to be set on a copy of a slice from a DataFrame\n",
      "\n",
      "See the caveats in the documentation: https://pandas.pydata.org/pandas-docs/stable/user_guide/indexing.html#returning-a-view-versus-a-copy\n",
      "  forecast_df.rename(columns={'ds': 'Date', 'yhat': 'Predicted', 'yhat_lower': 'LowerBound', 'yhat_upper': 'UpperBound'}, inplace=True)\n"
     ]
    }
   ],
   "source": [
    "forecast_df = forecast[['ds', 'yhat', 'yhat_lower', 'yhat_upper']]\n",
    "forecast_df.rename(columns={'ds': 'Date', 'yhat': 'Predicted', 'yhat_lower': 'LowerBound', 'yhat_upper': 'UpperBound'}, inplace=True)\n",
    "\n",
    "# Merge actual + forecast for comparison\n",
    "final_df = pd.merge(monthly_sales, forecast_df, how='right', left_on='ds', right_on='Date')\n"
   ]
  },
  {
   "cell_type": "code",
   "execution_count": 21,
   "id": "1c4dffbf",
   "metadata": {},
   "outputs": [],
   "source": [
    "final_df.to_csv('../data/01_raw_data/sales_forecast.csv', index=False)\n"
   ]
  },
  {
   "cell_type": "code",
   "execution_count": 22,
   "id": "febce208",
   "metadata": {},
   "outputs": [
    {
     "data": {
      "application/vnd.microsoft.datawrangler.viewer.v0+json": {
       "columns": [
        {
         "name": "index",
         "rawType": "int64",
         "type": "integer"
        },
        {
         "name": "ds",
         "rawType": "datetime64[ns]",
         "type": "datetime"
        },
        {
         "name": "y",
         "rawType": "float64",
         "type": "float"
        },
        {
         "name": "Date",
         "rawType": "datetime64[ns]",
         "type": "datetime"
        },
        {
         "name": "Predicted",
         "rawType": "float64",
         "type": "float"
        },
        {
         "name": "LowerBound",
         "rawType": "float64",
         "type": "float"
        },
        {
         "name": "UpperBound",
         "rawType": "float64",
         "type": "float"
        }
       ],
       "ref": "b00b15a8-5350-4a62-9152-e541294b5166",
       "rows": [
        [
         "0",
         "2022-09-30 00:00:00",
         "1735948.27",
         "2022-09-30 00:00:00",
         "6406587.178767086",
         "2214379.4061043537",
         "10333289.794540314"
        ],
        [
         "1",
         "2022-10-31 00:00:00",
         "2365865.93",
         "2022-10-31 00:00:00",
         "5084311.075081518",
         "852017.8039610268",
         "9196451.509108704"
        ],
        [
         "2",
         "2022-11-30 00:00:00",
         "3577077.38",
         "2022-11-30 00:00:00",
         "6657082.391008282",
         "2772781.1040130183",
         "10301409.58245774"
        ],
        [
         "3",
         "2022-12-31 00:00:00",
         "6427020.88",
         "2022-12-31 00:00:00",
         "8625901.46333037",
         "4448175.824790625",
         "12985111.455681542"
        ],
        [
         "4",
         "2023-01-31 00:00:00",
         "8524065.72",
         "2023-01-31 00:00:00",
         "9291405.168580942",
         "5304496.735734948",
         "13234663.52588159"
        ],
        [
         "5",
         "2023-02-28 00:00:00",
         "9890862.03",
         "2023-02-28 00:00:00",
         "11766422.960078528",
         "7712871.493216213",
         "15645665.794115268"
        ],
        [
         "6",
         "2023-03-31 00:00:00",
         "11129586.94",
         "2023-03-31 00:00:00",
         "13482152.716414142",
         "9153408.703883287",
         "17609988.98177999"
        ],
        [
         "7",
         "2023-04-30 00:00:00",
         "10879458.26",
         "2023-04-30 00:00:00",
         "10121790.867618158",
         "6138832.743408147",
         "14216130.271732483"
        ],
        [
         "8",
         "2023-05-31 00:00:00",
         "12863903.11",
         "2023-05-31 00:00:00",
         "12446388.808184931",
         "8335899.753146887",
         "16466563.62652041"
        ],
        [
         "9",
         "2023-06-30 00:00:00",
         "14246531.8",
         "2023-06-30 00:00:00",
         "12751241.989347905",
         "8713596.386295183",
         "17024752.768373687"
        ]
       ],
       "shape": {
        "columns": 6,
        "rows": 10
       }
      },
      "text/html": [
       "<div>\n",
       "<style scoped>\n",
       "    .dataframe tbody tr th:only-of-type {\n",
       "        vertical-align: middle;\n",
       "    }\n",
       "\n",
       "    .dataframe tbody tr th {\n",
       "        vertical-align: top;\n",
       "    }\n",
       "\n",
       "    .dataframe thead th {\n",
       "        text-align: right;\n",
       "    }\n",
       "</style>\n",
       "<table border=\"1\" class=\"dataframe\">\n",
       "  <thead>\n",
       "    <tr style=\"text-align: right;\">\n",
       "      <th></th>\n",
       "      <th>ds</th>\n",
       "      <th>y</th>\n",
       "      <th>Date</th>\n",
       "      <th>Predicted</th>\n",
       "      <th>LowerBound</th>\n",
       "      <th>UpperBound</th>\n",
       "    </tr>\n",
       "  </thead>\n",
       "  <tbody>\n",
       "    <tr>\n",
       "      <th>0</th>\n",
       "      <td>2022-09-30</td>\n",
       "      <td>1735948.27</td>\n",
       "      <td>2022-09-30</td>\n",
       "      <td>6.406587e+06</td>\n",
       "      <td>2.214379e+06</td>\n",
       "      <td>1.033329e+07</td>\n",
       "    </tr>\n",
       "    <tr>\n",
       "      <th>1</th>\n",
       "      <td>2022-10-31</td>\n",
       "      <td>2365865.93</td>\n",
       "      <td>2022-10-31</td>\n",
       "      <td>5.084311e+06</td>\n",
       "      <td>8.520178e+05</td>\n",
       "      <td>9.196452e+06</td>\n",
       "    </tr>\n",
       "    <tr>\n",
       "      <th>2</th>\n",
       "      <td>2022-11-30</td>\n",
       "      <td>3577077.38</td>\n",
       "      <td>2022-11-30</td>\n",
       "      <td>6.657082e+06</td>\n",
       "      <td>2.772781e+06</td>\n",
       "      <td>1.030141e+07</td>\n",
       "    </tr>\n",
       "    <tr>\n",
       "      <th>3</th>\n",
       "      <td>2022-12-31</td>\n",
       "      <td>6427020.88</td>\n",
       "      <td>2022-12-31</td>\n",
       "      <td>8.625901e+06</td>\n",
       "      <td>4.448176e+06</td>\n",
       "      <td>1.298511e+07</td>\n",
       "    </tr>\n",
       "    <tr>\n",
       "      <th>4</th>\n",
       "      <td>2023-01-31</td>\n",
       "      <td>8524065.72</td>\n",
       "      <td>2023-01-31</td>\n",
       "      <td>9.291405e+06</td>\n",
       "      <td>5.304497e+06</td>\n",
       "      <td>1.323466e+07</td>\n",
       "    </tr>\n",
       "    <tr>\n",
       "      <th>5</th>\n",
       "      <td>2023-02-28</td>\n",
       "      <td>9890862.03</td>\n",
       "      <td>2023-02-28</td>\n",
       "      <td>1.176642e+07</td>\n",
       "      <td>7.712871e+06</td>\n",
       "      <td>1.564567e+07</td>\n",
       "    </tr>\n",
       "    <tr>\n",
       "      <th>6</th>\n",
       "      <td>2023-03-31</td>\n",
       "      <td>11129586.94</td>\n",
       "      <td>2023-03-31</td>\n",
       "      <td>1.348215e+07</td>\n",
       "      <td>9.153409e+06</td>\n",
       "      <td>1.760999e+07</td>\n",
       "    </tr>\n",
       "    <tr>\n",
       "      <th>7</th>\n",
       "      <td>2023-04-30</td>\n",
       "      <td>10879458.26</td>\n",
       "      <td>2023-04-30</td>\n",
       "      <td>1.012179e+07</td>\n",
       "      <td>6.138833e+06</td>\n",
       "      <td>1.421613e+07</td>\n",
       "    </tr>\n",
       "    <tr>\n",
       "      <th>8</th>\n",
       "      <td>2023-05-31</td>\n",
       "      <td>12863903.11</td>\n",
       "      <td>2023-05-31</td>\n",
       "      <td>1.244639e+07</td>\n",
       "      <td>8.335900e+06</td>\n",
       "      <td>1.646656e+07</td>\n",
       "    </tr>\n",
       "    <tr>\n",
       "      <th>9</th>\n",
       "      <td>2023-06-30</td>\n",
       "      <td>14246531.80</td>\n",
       "      <td>2023-06-30</td>\n",
       "      <td>1.275124e+07</td>\n",
       "      <td>8.713596e+06</td>\n",
       "      <td>1.702475e+07</td>\n",
       "    </tr>\n",
       "  </tbody>\n",
       "</table>\n",
       "</div>"
      ],
      "text/plain": [
       "          ds            y       Date     Predicted    LowerBound    UpperBound\n",
       "0 2022-09-30   1735948.27 2022-09-30  6.406587e+06  2.214379e+06  1.033329e+07\n",
       "1 2022-10-31   2365865.93 2022-10-31  5.084311e+06  8.520178e+05  9.196452e+06\n",
       "2 2022-11-30   3577077.38 2022-11-30  6.657082e+06  2.772781e+06  1.030141e+07\n",
       "3 2022-12-31   6427020.88 2022-12-31  8.625901e+06  4.448176e+06  1.298511e+07\n",
       "4 2023-01-31   8524065.72 2023-01-31  9.291405e+06  5.304497e+06  1.323466e+07\n",
       "5 2023-02-28   9890862.03 2023-02-28  1.176642e+07  7.712871e+06  1.564567e+07\n",
       "6 2023-03-31  11129586.94 2023-03-31  1.348215e+07  9.153409e+06  1.760999e+07\n",
       "7 2023-04-30  10879458.26 2023-04-30  1.012179e+07  6.138833e+06  1.421613e+07\n",
       "8 2023-05-31  12863903.11 2023-05-31  1.244639e+07  8.335900e+06  1.646656e+07\n",
       "9 2023-06-30  14246531.80 2023-06-30  1.275124e+07  8.713596e+06  1.702475e+07"
      ]
     },
     "execution_count": 22,
     "metadata": {},
     "output_type": "execute_result"
    }
   ],
   "source": [
    "final_df.head(10)"
   ]
  }
 ],
 "metadata": {
  "kernelspec": {
   "display_name": "base",
   "language": "python",
   "name": "python3"
  },
  "language_info": {
   "codemirror_mode": {
    "name": "ipython",
    "version": 3
   },
   "file_extension": ".py",
   "mimetype": "text/x-python",
   "name": "python",
   "nbconvert_exporter": "python",
   "pygments_lexer": "ipython3",
   "version": "3.13.5"
  }
 },
 "nbformat": 4,
 "nbformat_minor": 5
}
