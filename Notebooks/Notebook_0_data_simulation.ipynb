{
 "cells": [
  {
   "cell_type": "markdown",
   "id": "9283de0c",
   "metadata": {},
   "source": [
    "# Notebook_0: Data Simulation"
   ]
  },
  {
   "cell_type": "markdown",
   "id": "ad4e88b5",
   "metadata": {},
   "source": [
    "## Section 1: Introduction & Goals\n",
    "---\n",
    " This notebook simulates realistic insurance data for brokers/agencies.\n",
    "**Goals**:\n",
    "- Generate clients, agents, policies, claims, and sales data.\n",
    "- Include extra features useful for segmentation, risk analysis, and predictive analytics.\n",
    "- Inject controlled noise to simulate real-world cleaning tasks."
   ]
  },
  {
   "cell_type": "markdown",
   "id": "e3c2344d",
   "metadata": {},
   "source": [
    "---\n",
    "\n",
    "## Section 2: Import Libraries\n"
   ]
  },
  {
   "cell_type": "code",
   "execution_count": 5,
   "id": "5e25e397",
   "metadata": {},
   "outputs": [],
   "source": [
    "import pandas as pd\n",
    "import numpy as np\n",
    "from faker import Faker\n",
    "import random\n",
    "from datetime import datetime, timedelta\n",
    "import os"
   ]
  },
  {
   "cell_type": "code",
   "execution_count": 4,
   "id": "4eb7434b",
   "metadata": {},
   "outputs": [],
   "source": [
    "# Create output\n",
    "os.makedirs(\"./data/01_raw_data\", exist_ok= True)\n"
   ]
  },
  {
   "cell_type": "code",
   "execution_count": null,
   "id": "2e216698",
   "metadata": {},
   "outputs": [],
   "source": []
  }
 ],
 "metadata": {
  "kernelspec": {
   "display_name": "base",
   "language": "python",
   "name": "python3"
  },
  "language_info": {
   "codemirror_mode": {
    "name": "ipython",
    "version": 3
   },
   "file_extension": ".py",
   "mimetype": "text/x-python",
   "name": "python",
   "nbconvert_exporter": "python",
   "pygments_lexer": "ipython3",
   "version": "3.13.5"
  }
 },
 "nbformat": 4,
 "nbformat_minor": 5
}
